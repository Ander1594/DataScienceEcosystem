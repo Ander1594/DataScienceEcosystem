{
 "cells": [
  {
   "cell_type": "markdown",
   "id": "c34f4aa0-90bc-4c2f-aaa3-fd3c1830d40a",
   "metadata": {},
   "source": [
    "# Data Science Tools and Ecosystem"
   ]
  },
  {
   "cell_type": "markdown",
   "id": "26725126-e8e6-4286-b3d7-bd824f188394",
   "metadata": {},
   "source": [
    "Data Science Tools and Ecosystem are summarized"
   ]
  },
  {
   "cell_type": "markdown",
   "id": "2e451be4-8ff3-420d-aaed-ce6987b4afe4",
   "metadata": {},
   "source": [
    "**Objectives:**\n",
    "* languages that Data Scientists use\n",
    "* libraries used by Data Scientists\n",
    "* Data Science Tools\n",
    "* arithmetic expression\n",
    "\n"
   ]
  },
  {
   "cell_type": "markdown",
   "id": "5ffec2b4-6326-424b-b688-ab0939be6494",
   "metadata": {},
   "source": [
    "Algunos de los lenguajes de datos que utilizan los cientificos de datos son:\n",
    "1. Python\n",
    "2. R\n",
    "3. SQL"
   ]
  },
  {
   "cell_type": "markdown",
   "id": "621ed10e-cc21-4e58-815d-3563b3f88a9b",
   "metadata": {},
   "source": [
    "Some of the commonly used libraries used by Data Scientists include:\n",
    "1. Pandas\n",
    "2. Numpy\n",
    "3. Matplotlib"
   ]
  },
  {
   "cell_type": "markdown",
   "id": "a6cbc9be-6754-4bcb-b4e1-5378d576d4a6",
   "metadata": {},
   "source": [
    "|Data Science Tools|\n",
    "|------------------|\n",
    "|Jupyter Notebook|\n",
    "|Spyder|\n",
    "|RStudio|"
   ]
  },
  {
   "cell_type": "markdown",
   "id": "7749d439-732f-4345-9ddb-432b37729525",
   "metadata": {},
   "source": [
    "### Below are a few examples of evaluating arithmetic expressions in Python"
   ]
  },
  {
   "cell_type": "code",
   "execution_count": 1,
   "id": "db148c18-adad-45bd-b610-0338274e460e",
   "metadata": {},
   "outputs": [
    {
     "data": {
      "text/plain": [
       "17"
      ]
     },
     "execution_count": 1,
     "metadata": {},
     "output_type": "execute_result"
    }
   ],
   "source": [
    "# This a simple arithmetic expression to mutiply then add integers\n",
    "(3*4)+5"
   ]
  },
  {
   "cell_type": "code",
   "execution_count": 2,
   "id": "58a9e235-b30a-43fa-92d3-5ee47fc20fb5",
   "metadata": {},
   "outputs": [
    {
     "data": {
      "text/plain": [
       "3.3333333333333335"
      ]
     },
     "execution_count": 2,
     "metadata": {},
     "output_type": "execute_result"
    }
   ],
   "source": [
    "# This will convert 200 minutes to hours by diving by 60\n",
    "200/60"
   ]
  },
  {
   "cell_type": "markdown",
   "id": "d6dc51c0-fda5-4cd7-bb2c-ad009e6ef040",
   "metadata": {},
   "source": [
    "## AUTOR\n",
    "Andersson Stilver Presiga Sandoval"
   ]
  },
  {
   "cell_type": "code",
   "execution_count": null,
   "id": "8abbe420-625f-4c29-8c14-affee9e8e6d0",
   "metadata": {},
   "outputs": [],
   "source": []
  }
 ],
 "metadata": {
  "kernelspec": {
   "display_name": "Python",
   "language": "python",
   "name": "conda-env-python-py"
  },
  "language_info": {
   "codemirror_mode": {
    "name": "ipython",
    "version": 3
   },
   "file_extension": ".py",
   "mimetype": "text/x-python",
   "name": "python",
   "nbconvert_exporter": "python",
   "pygments_lexer": "ipython3",
   "version": "3.7.12"
  }
 },
 "nbformat": 4,
 "nbformat_minor": 5
}
